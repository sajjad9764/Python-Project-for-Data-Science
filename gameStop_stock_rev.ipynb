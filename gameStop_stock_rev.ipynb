{
 "cells": [
  {
   "cell_type": "code",
   "execution_count": 1,
   "metadata": {},
   "outputs": [
    {
     "data": {
      "text/html": [
       "\n",
       "        <iframe\n",
       "            width=\"100%\"\n",
       "            height=\"650\"\n",
       "            src=\"http://127.0.0.1:8050/\"\n",
       "            frameborder=\"0\"\n",
       "            allowfullscreen\n",
       "            \n",
       "        ></iframe>\n",
       "        "
      ],
      "text/plain": [
       "<IPython.lib.display.IFrame at 0x275fd917350>"
      ]
     },
     "metadata": {},
     "output_type": "display_data"
    }
   ],
   "source": [
    "import yfinance as yf\n",
    "import dash\n",
    "from dash import dcc, html\n",
    "import plotly.graph_objs as go\n",
    "\n",
    "# Define the ticker symbol for GameStop\n",
    "ticker_symbol = \"GME\"\n",
    "\n",
    "# Initialize the Ticker object\n",
    "gamestop = yf.Ticker(ticker_symbol)\n",
    "\n",
    "# Fetch historical stock data\n",
    "historical_data = gamestop.history(period=\"1y\")\n",
    "\n",
    "# Fetch annual income statements\n",
    "annual_income_stmt = gamestop.financials\n",
    "annual_revenue = annual_income_stmt.loc['Total Revenue']\n",
    "\n",
    "# Initialize the Dash app\n",
    "app = dash.Dash(__name__)\n",
    "\n",
    "app.layout = html.Div(children=[\n",
    "    html.H1(children='GameStop Stock and Revenue Dashboard'),\n",
    "\n",
    "    dcc.Graph(\n",
    "        id='stock-price-graph',\n",
    "        figure={\n",
    "            'data': [\n",
    "                go.Scatter(\n",
    "                    x=historical_data.index,\n",
    "                    y=historical_data['Close'],\n",
    "                    mode='lines',\n",
    "                    name='GameStop Stock Price'\n",
    "                )\n",
    "            ],\n",
    "            'layout': go.Layout(\n",
    "                title='GameStop Stock Price (Last Year)',\n",
    "                xaxis={'title': 'Date'},\n",
    "                yaxis={'title': 'Price (USD)'},\n",
    "            )\n",
    "        }\n",
    "    ),\n",
    "\n",
    "    html.H2(children='Annual Revenue Data'),\n",
    "    dcc.Graph(\n",
    "        id='revenue-graph',\n",
    "        figure={\n",
    "            'data': [\n",
    "                go.Bar(\n",
    "                    x=annual_revenue.index,\n",
    "                    y=annual_revenue.values,\n",
    "                    name='Total Revenue'\n",
    "                )\n",
    "            ],\n",
    "            'layout': go.Layout(\n",
    "                title='GameStop Annual Revenue',\n",
    "                xaxis={'title': 'Year'},\n",
    "                yaxis={'title': 'Revenue (in billions USD)'},\n",
    "            )\n",
    "        }\n",
    "    )\n",
    "])\n",
    "\n",
    "if __name__ == '__main__':\n",
    "    app.run_server(debug=True)\n"
   ]
  }
 ],
 "metadata": {
  "kernelspec": {
   "display_name": "myenv",
   "language": "python",
   "name": "python3"
  },
  "language_info": {
   "codemirror_mode": {
    "name": "ipython",
    "version": 3
   },
   "file_extension": ".py",
   "mimetype": "text/x-python",
   "name": "python",
   "nbconvert_exporter": "python",
   "pygments_lexer": "ipython3",
   "version": "3.12.7"
  }
 },
 "nbformat": 4,
 "nbformat_minor": 2
}
