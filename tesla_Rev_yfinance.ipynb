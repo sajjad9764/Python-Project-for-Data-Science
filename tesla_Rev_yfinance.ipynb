{
 "cells": [
  {
   "cell_type": "code",
   "execution_count": 23,
   "metadata": {},
   "outputs": [
    {
     "name": "stdout",
     "output_type": "stream",
     "text": [
      "Total Revenue Data:\n",
      "        Date  Total Revenue\n",
      "0 2023-12-31  96773000000.0\n",
      "1 2022-12-31  81462000000.0\n",
      "2 2021-12-31  53823000000.0\n",
      "3 2020-12-31  31536000000.0\n",
      "4 2019-12-31            NaN\n"
     ]
    }
   ],
   "source": [
    "import yfinance as yf\n",
    "import pandas as pd\n",
    "\n",
    "# Define the ticker symbol for Tesla\n",
    "ticker_symbol = \"TSLA\"\n",
    "\n",
    "# Initialize the Ticker object\n",
    "tesla = yf.Ticker(ticker_symbol)\n",
    "\n",
    "# Fetch the annual income statements\n",
    "income_stmt = tesla.financials\n",
    "\n",
    "# Transpose the DataFrame for easier handling\n",
    "income_stmt_transposed = income_stmt.transpose()\n",
    "\n",
    "# Extract Total Revenue\n",
    "if 'Total Revenue' in income_stmt.index:\n",
    "    total_revenue = income_stmt.loc['Total Revenue']\n",
    "    df_revenue = total_revenue.to_frame().reset_index()\n",
    "    df_revenue.columns = ['Date', 'Total Revenue']\n",
    "    print(\"Total Revenue Data:\")\n",
    "    print(df_revenue)\n",
    "else:\n",
    "    print(\"Total Revenue data not found.\")\n"
   ]
  }
 ],
 "metadata": {
  "kernelspec": {
   "display_name": "myenv",
   "language": "python",
   "name": "python3"
  },
  "language_info": {
   "codemirror_mode": {
    "name": "ipython",
    "version": 3
   },
   "file_extension": ".py",
   "mimetype": "text/x-python",
   "name": "python",
   "nbconvert_exporter": "python",
   "pygments_lexer": "ipython3",
   "version": "3.12.7"
  }
 },
 "nbformat": 4,
 "nbformat_minor": 2
}
